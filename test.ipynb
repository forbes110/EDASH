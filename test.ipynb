{
 "cells": [
  {
   "cell_type": "code",
   "execution_count": 1,
   "metadata": {},
   "outputs": [],
   "source": [
    "from datetime import datetime as dt\n",
    "import numpy as np\n",
    "import pandas as pd\n",
    "import utils\n",
    "from functools import reduce"
   ]
  },
  {
   "cell_type": "code",
   "execution_count": 2,
   "metadata": {},
   "outputs": [
    {
     "name": "stdout",
     "output_type": "stream",
     "text": [
      "      AMB_TEMP  CH4    CO  NMHC    NO   NO2   NOx   PM10    RH  SO2\n",
      "0         16.0  2.0  0.53  0.18 -0.30  16.0  16.0  106.0  77.0  2.6\n",
      "1         16.0  2.0  0.56  0.19  0.00  23.0  23.0  106.0  77.0  3.8\n",
      "2         16.0  2.0  0.56  0.20  0.10  23.0  23.0  107.0  79.0  3.6\n",
      "3         16.0  2.1  0.61  0.22  1.72  19.2  20.9  108.0  80.0  3.7\n",
      "4         16.0  2.1  0.67  0.19 -0.40  19.0  18.0  105.0  80.0  3.6\n",
      "...        ...  ...   ...   ...   ...   ...   ...    ...   ...  ...\n",
      "8779      20.0  1.9  0.30  0.09  1.30  12.0  13.0   63.0  86.0  1.7\n",
      "8780      20.0  1.9  0.28  0.09  1.40  13.0  14.0   55.0  87.0  1.6\n",
      "8781      20.0  2.0  0.33  0.11  1.30  14.0  16.0   50.0  89.0  1.5\n",
      "8782      19.0  2.0  0.37  0.12  1.30  19.0  20.0   52.0  89.0  1.6\n",
      "8783      19.0  2.0  0.40  0.16  1.80  23.0  25.0   54.0  90.0  1.8\n",
      "\n",
      "[8784 rows x 10 columns]\n"
     ]
    }
   ],
   "source": [
    "truth_df = pd.read_csv(\"./data/original.csv\")\n",
    "X = truth_df.drop('PM2.5',axis=1)\n",
    "print(X)\n",
    "X = X.to_numpy()\n",
    "missing_result = utils.simulate_nan(X, nan_rate=0.2)\n",
    "X = missing_result['X']\n"
   ]
  },
  {
   "cell_type": "code",
   "execution_count": 6,
   "metadata": {},
   "outputs": [
    {
     "name": "stdout",
     "output_type": "stream",
     "text": [
      "[[ 16.     2.     0.53 ... 106.    77.     2.6 ]\n",
      " [   nan   2.      nan ... 106.    77.      nan]\n",
      " [   nan   2.     0.56 ... 107.    79.     3.6 ]\n",
      " ...\n",
      " [ 20.      nan    nan ...  50.    89.      nan]\n",
      " [ 19.     2.     0.37 ...  52.    89.     1.6 ]\n",
      " [ 19.     2.      nan ...  54.    90.     1.8 ]]\n"
     ]
    }
   ],
   "source": [
    "print(X)\n",
    "max_iter = 1000\n",
    "eps = 1e-07"
   ]
  },
  {
   "cell_type": "code",
   "execution_count": 40,
   "metadata": {},
   "outputs": [],
   "source": [
    "nr, nc = X.shape\n",
    "# 8784, 10 \n",
    "\n",
    "C = np.isnan(X) == False\n",
    "\n",
    "# Collect M_i and O_i's\n",
    "# Missing, Observed, -1 if absent\n",
    "one_to_nc = np.arange(1, nc + 1, step=1)\n",
    "M = one_to_nc * (C == False) - 1\n",
    "O = one_to_nc * C - 1\n",
    "\n",
    "# Generate Mu_0 and Sigma_0\n",
    "# Obeserved mean only\n",
    "Mu = np.nanmean(X, axis=0)\n",
    "\n",
    "# Find the rows without missing values\n",
    "observed_rows = np.where(np.isnan([sum(x) for x in X ])==False)[0]\n",
    "# Sample variance\n",
    "S = np.cov(X[observed_rows,].T)\n",
    "if np.isnan(S).any():\n",
    "    S = np.diag(np.nanvar(X, axis=0))\n",
    "\n",
    "# Start updating\n",
    "Mu_tilde, S_tilde = {}, {}\n",
    "X_tilde = X.copy()\n",
    "iteration = 0\n",
    "conv = False\n",
    "while conv == False and iteration < max_iter:\n",
    "    for i in range(nr):\n",
    "        S_tilde[i] = np.zeros(nc**2).reshape(nc, nc)\n",
    "        if set(O[i,]) != set(one_to_nc - 1):  # missing component exists\n",
    "            M_i, O_i = M[i,][M[i,] != -1], O[i,][O[i,] != -1]\n",
    "            S_MM = S[np.ix_(M_i, M_i)]\n",
    "            S_MO = S[np.ix_(M_i, O_i)]\n",
    "            S_OM = S_MO.T\n",
    "            S_OO = S[np.ix_(O_i, O_i)]\n",
    "            Mu_tilde[i] = Mu[np.ix_(M_i)] + S_MO @ np.linalg.inv(S_OO) @ (\n",
    "                X_tilde[i, O_i] - Mu[np.ix_(O_i)]\n",
    "            )\n",
    "            X_tilde[i, M_i] = Mu_tilde[i]\n",
    "            S_MM_O = S_MM - S_MO @ np.linalg.inv(S_OO) @ S_OM\n",
    "            S_tilde[i][np.ix_(M_i, M_i)] = S_MM_O\n",
    "\n",
    "    # Impute conditional mean given (XO, theta_old)       \n",
    "    # Update theta_old to theta_new \n",
    "    Mu_new = np.mean(X_tilde, axis=0)\n",
    "    S_new = np.cov(X_tilde.T, bias=1) + reduce(np.add, S_tilde.values()) / nr\n",
    "\n",
    "    if np.linalg.norm(Mu - Mu_new) < eps and np.linalg.norm(S - S_new, ord=2) < eps:\n",
    "        conv = True\n",
    "\n",
    "    Mu = Mu_new\n",
    "    S = S_new\n",
    "    iteration += 1\n",
    "\n",
    "result = {\n",
    "        \"mu\": Mu,\n",
    "        \"Sigma\": S,\n",
    "        \"X_imputed\": X_tilde,\n",
    "        \"C\": C,\n",
    "        \"iteration\": iteration,\n",
    "}\n",
    "\n",
    "\n",
    " "
   ]
  },
  {
   "cell_type": "code",
   "execution_count": 48,
   "metadata": {},
   "outputs": [
    {
     "data": {
      "text/plain": [
       "array([[ 2.94709428e+01, -4.22783111e-01, -4.08537945e-01,\n",
       "        -2.03118947e-02, -6.73957363e-01, -1.88596362e+01,\n",
       "        -1.95598047e+01, -4.71962454e+01, -1.21348039e+01,\n",
       "        -3.67563795e-02],\n",
       "       [-4.22783111e-01,  3.07519613e-02,  1.75067494e-02,\n",
       "         7.90559927e-03,  1.71675496e-01,  8.65927100e-01,\n",
       "         1.03830382e+00,  2.74435284e+00,  5.60758172e-01,\n",
       "         5.77169068e-02],\n",
       "       [-4.08537945e-01,  1.75067494e-02,  2.70234553e-02,\n",
       "         1.27866374e-02,  2.29687558e-01,  1.01257699e+00,\n",
       "         1.24179265e+00,  2.92889153e+00,  2.19217957e-01,\n",
       "         1.03558133e-01],\n",
       "       [-2.03118947e-02,  7.90559927e-03,  1.27866374e-02,\n",
       "         2.37808717e-02,  2.25395460e-01,  6.48130160e-01,\n",
       "         8.74268901e-01,  7.21052648e-01,  3.40795400e-01,\n",
       "         8.52808263e-02],\n",
       "       [-6.73957363e-01,  1.71675496e-01,  2.29687558e-01,\n",
       "         2.25395460e-01,  1.11905380e+01,  1.12891259e+01,\n",
       "         2.24747527e+01,  9.18222411e+00,  3.30492148e+00,\n",
       "         1.53472534e+00],\n",
       "       [-1.88596362e+01,  8.65927100e-01,  1.01257699e+00,\n",
       "         6.48130160e-01,  1.12891259e+01,  5.74030381e+01,\n",
       "         6.87452085e+01,  1.11828930e+02,  1.86311205e+01,\n",
       "         5.12084564e+00],\n",
       "       [-1.95598047e+01,  1.03830382e+00,  1.24179265e+00,\n",
       "         8.74268901e-01,  2.24747527e+01,  6.87452085e+01,\n",
       "         9.13688473e+01,  1.21508544e+02,  2.18715660e+01,\n",
       "         6.66628315e+00],\n",
       "       [-4.71962454e+01,  2.74435284e+00,  2.92889153e+00,\n",
       "         7.21052648e-01,  9.18222411e+00,  1.11828930e+02,\n",
       "         1.21508544e+02,  8.77481868e+02, -3.50070840e+01,\n",
       "         1.49126173e+01],\n",
       "       [-1.21348039e+01,  5.60758172e-01,  2.19217957e-01,\n",
       "         3.40795400e-01,  3.30492148e+00,  1.86311205e+01,\n",
       "         2.18715660e+01, -3.50070840e+01,  1.02101103e+02,\n",
       "        -1.89043032e+00],\n",
       "       [-3.67563795e-02,  5.77169068e-02,  1.03558133e-01,\n",
       "         8.52808263e-02,  1.53472534e+00,  5.12084564e+00,\n",
       "         6.66628315e+00,  1.49126173e+01, -1.89043032e+00,\n",
       "         1.80549773e+00]])"
      ]
     },
     "execution_count": 48,
     "metadata": {},
     "output_type": "execute_result"
    }
   ],
   "source": [
    "np.cov(X[observed_rows,].T)"
   ]
  },
  {
   "cell_type": "code",
   "execution_count": null,
   "metadata": {},
   "outputs": [],
   "source": []
  }
 ],
 "metadata": {
  "kernelspec": {
   "display_name": "base",
   "language": "python",
   "name": "python3"
  },
  "language_info": {
   "codemirror_mode": {
    "name": "ipython",
    "version": 3
   },
   "file_extension": ".py",
   "mimetype": "text/x-python",
   "name": "python",
   "nbconvert_exporter": "python",
   "pygments_lexer": "ipython3",
   "version": "3.9.7"
  },
  "orig_nbformat": 4
 },
 "nbformat": 4,
 "nbformat_minor": 2
}
