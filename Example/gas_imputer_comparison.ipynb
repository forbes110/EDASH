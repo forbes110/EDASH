{
 "cells": [
  {
   "cell_type": "markdown",
   "metadata": {},
   "source": [
    "This is the example of using EM-algorithm to impute missing data. <br> In this case we use the data of air pollution, and the goal is to perform regression analysis to predict the value of PM2.5.<br>\n",
    "To simulate the condition of a dataset with missing values, we will pick random rows and replace some features with NaN.<br>\n",
    "In the end we will compare the R-squared value of EM-algorithm, original data and baseline method(KNN) as a metric."
   ]
  },
  {
   "cell_type": "code",
   "execution_count": 1,
   "metadata": {
    "tags": []
   },
   "outputs": [
    {
     "name": "stdout",
     "output_type": "stream",
     "text": [
      "D:\\大學\\EDASH\\EDASH\n"
     ]
    }
   ],
   "source": [
    "# To deal with the relative import problems.\n",
    "import sys\n",
    "import os\n",
    "import time\n",
    "print(os.path.dirname(os.getcwd()))\n",
    "sys.path.append(f'{os.path.dirname(os.getcwd())}')\n",
    "\n",
    "# Required packages\n",
    "import numpy as np\n",
    "import pandas as pd\n",
    "import Imputers.utils as utils\n",
    "import Imputers.em as em\n",
    "import Imputers.MissForest as MissForest\n",
    "import Imputers.fcm_impute as Fcm_imputer\n",
    "import DataQuality.continuous as continuous\n",
    "from sklearn.impute import KNNImputer, SimpleImputer\n",
    "from datetime import datetime\n",
    "import warnings\n",
    "warnings.filterwarnings(\"ignore\")"
   ]
  },
  {
   "cell_type": "markdown",
   "metadata": {},
   "source": [
    "Read the missing data you generated."
   ]
  },
  {
   "cell_type": "code",
   "execution_count": 2,
   "metadata": {
    "tags": []
   },
   "outputs": [],
   "source": [
    "config = {\n",
    "    'miss_rate' : [15,20,25,30,35,40,45,50,55,60,65,70,75],\n",
    "}\n",
    "\n",
    "result = {\n",
    "    'em' : [],\n",
    "    'knn' : [],\n",
    "    'miss' : [],\n",
    "    'fcm' : [],\n",
    "    'mean' : [],\n",
    "}"
   ]
  },
  {
   "cell_type": "code",
   "execution_count": 3,
   "metadata": {
    "tags": []
   },
   "outputs": [
    {
     "name": "stdout",
     "output_type": "stream",
     "text": [
      "Iteration 1/40\n",
      "Convergence Check: Mu:166.3210 | S:546957821.2864\n",
      "Iteration 2/40\n",
      "Convergence Check: Mu:40.7342 | S:2143010.1291\n",
      "Iteration 3/40\n",
      "Convergence Check: Mu:18.0303 | S:673982.4541\n",
      "Iteration 4/40\n",
      "Convergence Check: Mu:8.3069 | S:651068.1308\n",
      "Iteration 5/40\n",
      "Convergence Check: Mu:4.1512 | S:660872.2283\n",
      "Iteration 6/40\n",
      "Convergence Check: Mu:2.2834 | S:626803.3824\n",
      "Iteration 7/40\n",
      "Convergence Check: Mu:1.4691 | S:578312.2664\n",
      "Iteration 8/40\n",
      "Convergence Check: Mu:1.1439 | S:529298.9426\n",
      "Iteration 9/40\n",
      "Convergence Check: Mu:1.0221 | S:483694.2434\n",
      "Iteration 10/40\n",
      "Convergence Check: Mu:0.9726 | S:441966.1484\n",
      "Iteration 11/40\n",
      "Convergence Check: Mu:0.9440 | S:403714.8666\n",
      "Iteration 12/40\n",
      "Convergence Check: Mu:0.9165 | S:368491.8148\n",
      "Iteration 13/40\n",
      "Convergence Check: Mu:0.8821 | S:335998.7667\n",
      "Iteration 14/40\n",
      "Convergence Check: Mu:0.8379 | S:306091.7533\n",
      "Iteration 15/40\n",
      "Convergence Check: Mu:0.7837 | S:278722.4256\n",
      "Iteration 16/40\n",
      "Convergence Check: Mu:0.7216 | S:253862.7439\n",
      "Iteration 17/40\n",
      "Convergence Check: Mu:0.6545 | S:231441.7299\n",
      "Iteration 18/40\n",
      "Convergence Check: Mu:0.5863 | S:211314.8506\n",
      "Iteration 19/40\n",
      "Convergence Check: Mu:0.5205 | S:193270.5032\n",
      "Iteration 20/40\n",
      "Convergence Check: Mu:0.4601 | S:177059.1488\n",
      "Iteration 21/40\n",
      "Convergence Check: Mu:0.4069 | S:162426.1325\n",
      "Iteration 22/40\n",
      "Convergence Check: Mu:0.3618 | S:149135.1015\n",
      "Iteration 23/40\n",
      "Convergence Check: Mu:0.3250 | S:136981.0267\n",
      "Iteration 24/40\n",
      "Convergence Check: Mu:0.2959 | S:125795.4693\n",
      "Iteration 25/40\n",
      "Convergence Check: Mu:0.2736 | S:115447.7437\n",
      "Iteration 26/40\n",
      "Convergence Check: Mu:0.2571 | S:105843.4440\n",
      "Iteration 27/40\n",
      "Convergence Check: Mu:0.2452 | S:96920.6076\n",
      "Iteration 28/40\n",
      "Convergence Check: Mu:0.2368 | S:88643.9134\n",
      "Iteration 29/40\n",
      "Convergence Check: Mu:0.2310 | S:80997.3298\n",
      "Iteration 30/40\n",
      "Convergence Check: Mu:0.2268 | S:73977.1404\n",
      "Iteration 31/40\n",
      "Convergence Check: Mu:0.2238 | S:67585.6771\n",
      "Iteration 32/40\n",
      "Convergence Check: Mu:0.2212 | S:61826.4656\n",
      "Iteration 33/40\n",
      "Convergence Check: Mu:0.2189 | S:56699.7434\n",
      "Iteration 34/40\n",
      "Convergence Check: Mu:0.2165 | S:52196.7004\n",
      "Iteration 35/40\n",
      "Convergence Check: Mu:0.2139 | S:48291.7426\n",
      "Iteration 36/40\n",
      "Convergence Check: Mu:0.2110 | S:44935.4627\n",
      "Iteration 37/40\n",
      "Convergence Check: Mu:0.2079 | S:42055.2846\n",
      "Iteration 38/40\n",
      "Convergence Check: Mu:0.2045 | S:39566.8792\n",
      "Iteration 39/40\n",
      "Convergence Check: Mu:0.2008 | S:37389.5910\n",
      "Iteration 40/40\n",
      "Convergence Check: Mu:0.1969 | S:35456.2646\n",
      "Time used: 0:07:08.608483\n",
      "Stacking Model Test Accuracy: 0.9923334930522281\n",
      "Stacking Model Test F1 Score: 0.9920681729167401\n"
     ]
    },
    {
     "name": "stderr",
     "output_type": "stream",
     "text": [
      "\n",
      "KeyboardInterrupt\n",
      "\n"
     ]
    }
   ],
   "source": [
    "for miss_rate in config['miss_rate']:\n",
    "    m_X_train = pd.read_csv(f\"./data/Gas Sensor Drift Dataset/miss_{miss_rate}/X_train.csv\")\n",
    "    y_train = pd.read_csv(f\"./data/Gas Sensor Drift Dataset/miss_{miss_rate}/y_train.csv\")\n",
    "    m_X_test = pd.read_csv(f\"./data/Gas Sensor Drift Dataset/miss_{miss_rate}/X_test.csv\")\n",
    "    y_test = pd.read_csv(f\"./data/Gas Sensor Drift Dataset/miss_{miss_rate}/y_test.csv\")\n",
    "    \n",
    "    # For XGB fix\n",
    "    y_train = y_train-1\n",
    "    y_test = y_test-1\n",
    "    # print(m_X_train.shape)\n",
    "    # print(m_X_test.shape)\n",
    "    missing_df = pd.concat([m_X_train, m_X_test], axis=0)\n",
    "    # print(missing_df.shape)\n",
    "    missing_df.reset_index(drop=True, inplace=True)\n",
    "    \n",
    "    # EM Imputer\n",
    "    result_imputed = em.impute_em(missing_df, 40, 0.03, True, eps_form='relative')\n",
    "    x_train = result_imputed['X_imputed'][:11823]\n",
    "    x_test = result_imputed['X_imputed'][11823:]\n",
    "    \n",
    "    x_train.to_csv(f\"./data/Gas Sensor Drift Dataset/miss_{miss_rate}/em_x_train.csv\",index=False)\n",
    "    x_test.to_csv(f\"./data/Gas Sensor Drift Dataset/miss_{miss_rate}/em_x_test.csv\",index=False)\n",
    "    accuracy, f1 = utils.generate_stack_prediction(x_train, y_train, x_test, y_test)\n",
    "    result['em'].append([accuracy, f1, result_imputed['time']])\n",
    "    \n",
    "    # KNN\n",
    "    t_start = datetime.now()\n",
    "    knn = KNNImputer(n_neighbors=3)\n",
    "    knn_X = knn.fit_transform(missing_df)\n",
    "    time_s = datetime.now() - t_start\n",
    "    knn_df = pd.DataFrame(knn_X, columns=missing_df.columns)\n",
    "    \n",
    "    x_train = knn_df[:11823]\n",
    "    x_test = knn_df[11823:]\n",
    "    \n",
    "    x_train.to_csv(f\"./data/Gas Sensor Drift Dataset/miss_{miss_rate}/knn_x_train.csv\",index=False)\n",
    "    x_test.to_csv(f\"./data/Gas Sensor Drift Dataset/miss_{miss_rate}/knn_x_test.csv\",index=False)\n",
    "    accuracy, f1 = utils.generate_stack_prediction(x_train, y_train, x_test, y_test)\n",
    "    result['knn'].append([accuracy, f1, time_s])"
   ]
  },
  {
   "cell_type": "markdown",
   "metadata": {},
   "source": [
    "## Classification on Original data"
   ]
  },
  {
   "cell_type": "code",
   "execution_count": null,
   "metadata": {
    "tags": []
   },
   "outputs": [],
   "source": [
    "c_x_train = pd.read_csv(\"./data/Gas Sensor Drift Dataset/complete/X_train.csv\")\n",
    "c_x_test = pd.read_csv(\"./data/Gas Sensor Drift Dataset/complete/X_test.csv\")\n",
    "utils.generate_stack_prediction(c_x_train, y_train, c_x_test, y_test)"
   ]
  },
  {
   "cell_type": "markdown",
   "metadata": {},
   "source": [
    "## Classification on imputed data (MissForest)"
   ]
  },
  {
   "cell_type": "code",
   "execution_count": null,
   "metadata": {
    "tags": []
   },
   "outputs": [],
   "source": [
    "for miss_rate in config['miss_rate']:\n",
    "    m_X_train = pd.read_csv(f\"./data/Gas Sensor Drift Dataset/miss_{miss_rate}/X_train.csv\")\n",
    "    m_X_test = pd.read_csv(f\"./data/Gas Sensor Drift Dataset/miss_{miss_rate}/X_test.csv\")\n",
    "\n",
    "    missing_df = pd.concat([m_X_train, m_X_test], axis=0)\n",
    "    missing_df.reset_index(drop=True, inplace=True)\n",
    "    mf_imputer = MissForest.MissForest(max_iter = 15)\n",
    "    start_time = datetime.now()\n",
    "    mf_df = mf_imputer.fit_transform(missing_df, verbose=False)\n",
    "    print(f\"Execution time: {datetime.now() - start_time}\")\n",
    "    time = datetime.now() - start_time\n",
    "\n",
    "    x_train = mf_df[:11823]\n",
    "    x_test = mf_df[11823:]\n",
    "    \n",
    "    x_train.to_csv(f\"./data/Gas Sensor Drift Dataset/miss_{miss_rate}/mf_x_train.csv\",index=False)\n",
    "    x_test.to_csv(f\"./data/Gas Sensor Drift Dataset/miss_{miss_rate}/mf_x_test.csv\",index=False)\n",
    "    accuracy, f1 = utils.generate_stack_prediction(x_train, y_train, x_test, y_test)\n",
    "\n",
    "    result['miss'].append([accuracy, f1, time])"
   ]
  },
  {
   "cell_type": "code",
   "execution_count": null,
   "metadata": {
    "tags": []
   },
   "outputs": [],
   "source": [
    "display(missing_df.shape)"
   ]
  },
  {
   "cell_type": "markdown",
   "metadata": {},
   "source": [
    "## Classificaiton on imputed data (fuzzy)"
   ]
  },
  {
   "cell_type": "code",
   "execution_count": null,
   "metadata": {
    "tags": []
   },
   "outputs": [],
   "source": [
    "for miss_rate in config['miss_rate']:\n",
    "    m_X_train = pd.read_csv(f\"./data/Gas Sensor Drift Dataset/miss_{miss_rate}/X_train.csv\")\n",
    "    m_X_test = pd.read_csv(f\"./data/Gas Sensor Drift Dataset/miss_{miss_rate}/X_test.csv\")\n",
    "\n",
    "    missing_df = pd.concat([m_X_train, m_X_test], axis=0)\n",
    "    missing_df.reset_index(drop=True, inplace=True)\n",
    "    # c_X_train = pd.read_csv(f\"./data/Gas Sensor Drift Dataset/complete/X_train.csv\")\n",
    "    # c_X_test = pd.read_csv(f\"./data/Gas Sensor Drift Dataset/complete/X_test.csv\")\n",
    "    # x_train = pd.concat([c_X_train[0:1391], missing_df[1391:11823]], axis=0)\n",
    "    # x_test = missing_df[11823:]\n",
    "    # missing_df = pd.concat([x_train, x_test], axis=0)\n",
    "    # missing_df.reset_index(drop=True, inplace=True)\n",
    "\n",
    "    fcmImputer = Fcm_imputer.FCMImputer(data = missing_df, num_clusters = 3)\n",
    "    s_time = time.time()\n",
    "    fuzzy_X = fcmImputer.impute()\n",
    "    duration = time.time() - s_time\n",
    "   \n",
    "    x_train = fuzzy_X[:11823]\n",
    "    x_test = fuzzy_X[11823:]\n",
    "    \n",
    "    x_train.to_csv(f\"./data/Gas Sensor Drift Dataset/miss_{miss_rate}/fcm_x_train.csv\",index=False)\n",
    "    x_test.to_csv(f\"./data/Gas Sensor Drift Dataset/miss_{miss_rate}/fcm_x_test.csv\",index=False)\n",
    "    accuracy, f1 = utils.generate_stack_prediction(x_train, y_train, x_test, y_test)\n",
    "\n",
    "    result['fcm'].append([accuracy, f1, duration])"
   ]
  },
  {
   "cell_type": "markdown",
   "metadata": {
    "tags": []
   },
   "source": [
    "## Mean Impute"
   ]
  },
  {
   "cell_type": "code",
   "execution_count": null,
   "metadata": {},
   "outputs": [],
   "source": [
    "for miss_rate in [25,50,75]:\n",
    "    m_X_train = pd.read_csv(f\"./data/Gas Sensor Drift Dataset/miss_{miss_rate}/X_train.csv\")\n",
    "    m_X_test = pd.read_csv(f\"./data/Gas Sensor Drift Dataset/miss_{miss_rate}/X_test.csv\")\n",
    "\n",
    "    missing_df = pd.concat([m_X_train, m_X_test], axis=0)\n",
    "    missing_df.reset_index(drop=True, inplace=True)\n",
    "    s_time = time.time()\n",
    "    mean_imputer = SimpleImputer(strategy='mean')\n",
    "    mean_imputer.fit(missing_df)\n",
    "    mean_x = mean_imputer.fit_transform(missing_df)\n",
    "    duration = time.time() - s_time\n",
    "    \n",
    "    x_train = mean_x[:11823]\n",
    "    x_test = mean_x[11823:]\n",
    "    \n",
    "    x_train.to_csv(f\"./data/Gas Sensor Drift Dataset/miss_{miss_rate}/mean_x_train.csv\",index=False)\n",
    "    x_test.to_csv(f\"./data/Gas Sensor Drift Dataset/miss_{miss_rate}/mean_x_test.csv\",index=False)\n",
    "    accuracy, f1 = utils.generate_stack_prediction(x_train, y_train, x_test, y_test)\n",
    "    result['mean'].append([accuracy, f1, duration])"
   ]
  },
  {
   "cell_type": "code",
   "execution_count": null,
   "metadata": {
    "tags": []
   },
   "outputs": [],
   "source": [
    "for i in range(0,3):\n",
    "    print(result['miss'][i][1])\n",
    "    print(result['em'][i][1])\n",
    "    print(result['knn'][i][1])\n",
    "    print(result['fcm'][i][1])\n",
    "    print(result['mean'][i][1])"
   ]
  },
  {
   "cell_type": "code",
   "execution_count": null,
   "metadata": {
    "tags": []
   },
   "outputs": [],
   "source": [
    "# con = continuous()\n",
    "# frame = con.comparison(knn_X_df, result_imputed['X_imputed'])"
   ]
  }
 ],
 "metadata": {
  "kernelspec": {
   "display_name": "Python 3 (ipykernel)",
   "language": "python",
   "name": "python3"
  },
  "language_info": {
   "codemirror_mode": {
    "name": "ipython",
    "version": 3
   },
   "file_extension": ".py",
   "mimetype": "text/x-python",
   "name": "python",
   "nbconvert_exporter": "python",
   "pygments_lexer": "ipython3",
   "version": "3.8.18"
  }
 },
 "nbformat": 4,
 "nbformat_minor": 4
}
