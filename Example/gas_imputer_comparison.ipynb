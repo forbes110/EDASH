{
 "cells": [
  {
   "cell_type": "markdown",
   "metadata": {},
   "source": [
    "This is the example of using EM-algorithm to impute missing data. <br> In this case we use the data of air pollution, and the goal is to perform regression analysis to predict the value of PM2.5.<br>\n",
    "To simulate the condition of a dataset with missing values, we will pick random rows and replace some features with NaN.<br>\n",
    "In the end we will compare the R-squared value of EM-algorithm, original data and baseline method(KNN) as a metric."
   ]
  },
  {
   "cell_type": "code",
   "execution_count": 2,
   "metadata": {
    "tags": []
   },
   "outputs": [
    {
     "name": "stdout",
     "output_type": "stream",
     "text": [
      "/Users/kogby/大學/ongoing/EDASH\n"
     ]
    }
   ],
   "source": [
    "# To deal with the relative import problems.\n",
    "import sys\n",
    "import os\n",
    "import time\n",
    "print(os.path.dirname(os.getcwd()))\n",
    "sys.path.append(f'{os.path.dirname(os.getcwd())}')\n",
    "\n",
    "# Required packages\n",
    "import numpy as np\n",
    "import pandas as pd\n",
    "import Imputers.utils as utils\n",
    "import Imputers.em as em\n",
    "import Imputers.MissForest as MissForest\n",
    "import Imputers.fcm_impute as Fcm_imputer\n",
    "import DataQuality.continuous as continuous\n",
    "from sklearn.impute import KNNImputer, SimpleImputer\n",
    "from datetime import datetime\n",
    "import warnings\n",
    "warnings.filterwarnings(\"ignore\")"
   ]
  },
  {
   "cell_type": "markdown",
   "metadata": {},
   "source": [
    "Do this part first. You should generate the missing data, then run the algorithm."
   ]
  },
  {
   "cell_type": "markdown",
   "metadata": {},
   "source": [
    "Read the missing data you generated."
   ]
  },
  {
   "cell_type": "code",
   "execution_count": 3,
   "metadata": {
    "tags": []
   },
   "outputs": [
    {
     "name": "stdout",
     "output_type": "stream",
     "text": [
      "Every row contains NaN values.\n"
     ]
    }
   ],
   "source": [
    "\n",
    "m_X_train = pd.read_csv(f\"./data/Gas Sensor Drift Dataset/miss_{miss_rate}/X_train.csv\")\n",
    "y_train = pd.read_csv(f\"./data/Gas Sensor Drift Dataset/miss_{miss_rate}/y_train.csv\")\n",
    "m_X_test = pd.read_csv(f\"./data/Gas Sensor Drift Dataset/miss_{miss_rate}/X_test.csv\")\n",
    "y_test = pd.read_csv(f\"./data/Gas Sensor Drift Dataset/miss_{miss_rate}/y_test.csv\")"
   ]
  },
  {
   "cell_type": "code",
   "execution_count": 2,
   "metadata": {
    "tags": []
   },
   "outputs": [],
   "source": [
    "config = {\n",
    "    'miss_rate' : [10,20,30,40,50,75],\n",
    "}\n",
    "\n",
    "result = {\n",
    "    'em' : [],\n",
    "    'knn' : [],\n",
    "    'miss' : [],\n",
    "    'fcm' : [],\n",
    "    'mean' : [],\n",
    "}"
   ]
  },
  {
   "cell_type": "code",
   "execution_count": 3,
   "metadata": {
    "collapsed": true,
    "jupyter": {
     "outputs_hidden": true
    },
    "tags": []
   },
   "outputs": [
    {
     "name": "stdout",
     "output_type": "stream",
     "text": [
      "Iteration 1/25\n",
      "Convergence Check: Mu:0.0000 | S:5805174052.8143\n",
      "Iteration 2/25\n",
      "Convergence Check: Mu:282.5408 | S:4409909385.5394\n",
      "Iteration 3/25\n",
      "Convergence Check: Mu:78.3394 | S:347805416.7972\n",
      "Iteration 4/25\n",
      "Convergence Check: Mu:30.9410 | S:92926202.8481\n",
      "Iteration 5/25\n",
      "Convergence Check: Mu:21.4832 | S:27960834.1280\n",
      "Iteration 6/25\n",
      "Convergence Check: Mu:15.7706 | S:10174902.1619\n",
      "Iteration 7/25\n",
      "Convergence Check: Mu:12.0635 | S:5244661.9660\n",
      "Iteration 8/25\n",
      "Convergence Check: Mu:9.6451 | S:2973511.8116\n",
      "Iteration 9/25\n",
      "Convergence Check: Mu:7.9165 | S:1580893.3171\n",
      "Iteration 10/25\n",
      "Convergence Check: Mu:6.4646 | S:1048638.5697\n",
      "Iteration 11/25\n",
      "Convergence Check: Mu:5.2568 | S:676926.4170\n",
      "Iteration 12/25\n",
      "Convergence Check: Mu:4.2991 | S:421972.8710\n",
      "Iteration 13/25\n",
      "Convergence Check: Mu:3.5505 | S:266412.1388\n",
      "Iteration 14/25\n",
      "Convergence Check: Mu:2.9604 | S:179426.1277\n",
      "Iteration 15/25\n",
      "Convergence Check: Mu:2.4886 | S:129357.8350\n",
      "Iteration 16/25\n",
      "Convergence Check: Mu:2.1062 | S:114597.1675\n",
      "Iteration 17/25\n",
      "Convergence Check: Mu:1.7941 | S:129874.3988\n",
      "Iteration 18/25\n",
      "Convergence Check: Mu:1.5386 | S:138728.3938\n",
      "Iteration 19/25\n",
      "Convergence Check: Mu:1.3298 | S:143360.9707\n",
      "Iteration 20/25\n",
      "Convergence Check: Mu:1.1593 | S:145272.7755\n",
      "Iteration 21/25\n",
      "Convergence Check: Mu:1.0205 | S:145414.5354\n",
      "Iteration 22/25\n",
      "Convergence Check: Mu:0.9076 | S:144380.2459\n",
      "Iteration 23/25\n",
      "Convergence Check: Mu:0.8159 | S:142547.9921\n",
      "Iteration 24/25\n",
      "Convergence Check: Mu:0.7414 | S:140168.4778\n",
      "Iteration 25/25\n",
      "Convergence Check: Mu:0.6808 | S:137415.9897\n",
      "Time used: 0:04:56.430974\n",
      "Stacking Model Test Accuracy: 0.9908960229995208\n",
      "Stacking Model Test F1 Score: 0.9905749326393957\n",
      "Stacking Model Test Accuracy: 0.9894585529468136\n",
      "Stacking Model Test F1 Score: 0.9892360883246502\n",
      "Iteration 1/25\n",
      "Convergence Check: Mu:0.0000 | S:2538435555.9253\n",
      "Iteration 2/25\n",
      "Convergence Check: Mu:450.4033 | S:6472479154.5262\n",
      "Iteration 3/25\n",
      "Convergence Check: Mu:246.6999 | S:1264275124.1970\n",
      "Iteration 4/25\n",
      "Convergence Check: Mu:137.1765 | S:411322195.0076\n",
      "Iteration 5/25\n",
      "Convergence Check: Mu:78.9198 | S:214508743.1165\n",
      "Iteration 6/25\n",
      "Convergence Check: Mu:50.1788 | S:111799052.7596\n",
      "Iteration 7/25\n",
      "Convergence Check: Mu:37.1771 | S:59879275.9685\n",
      "Iteration 8/25\n",
      "Convergence Check: Mu:29.2633 | S:33809089.2217\n",
      "Iteration 9/25\n",
      "Convergence Check: Mu:23.0093 | S:20509463.4016\n",
      "Iteration 10/25\n",
      "Convergence Check: Mu:17.9740 | S:13216980.2408\n",
      "Iteration 11/25\n",
      "Convergence Check: Mu:14.0820 | S:8909371.8519\n",
      "Iteration 12/25\n",
      "Convergence Check: Mu:11.0576 | S:8006399.0826\n",
      "Iteration 13/25\n",
      "Convergence Check: Mu:8.6393 | S:8112257.4101\n",
      "Iteration 14/25\n",
      "Convergence Check: Mu:6.7018 | S:7851350.9058\n",
      "Iteration 15/25\n",
      "Convergence Check: Mu:5.1762 | S:7291709.8722\n",
      "Iteration 16/25\n",
      "Convergence Check: Mu:3.9897 | S:6522758.3717\n",
      "Iteration 17/25\n",
      "Convergence Check: Mu:3.0881 | S:5650739.7517\n",
      "Iteration 18/25\n",
      "Convergence Check: Mu:2.4409 | S:4767780.7381\n",
      "Iteration 19/25\n",
      "Convergence Check: Mu:2.0133 | S:3936794.9053\n",
      "Iteration 20/25\n",
      "Convergence Check: Mu:1.7530 | S:3193641.7153\n",
      "Iteration 21/25\n",
      "Convergence Check: Mu:1.6009 | S:2554019.5537\n",
      "Iteration 22/25\n",
      "Convergence Check: Mu:1.5076 | S:2019737.2405\n",
      "Iteration 23/25\n",
      "Convergence Check: Mu:1.4420 | S:1583932.0920\n",
      "Iteration 24/25\n",
      "Convergence Check: Mu:1.3890 | S:1235234.0712\n",
      "Iteration 25/25\n",
      "Convergence Check: Mu:1.3423 | S:960717.0234\n",
      "Time used: 0:05:29.246544\n",
      "Stacking Model Test Accuracy: 0.9904168663152851\n",
      "Stacking Model Test F1 Score: 0.9901944972832138\n",
      "Stacking Model Test Accuracy: 0.9353138476281744\n",
      "Stacking Model Test F1 Score: 0.9294498598575259\n",
      "Iteration 1/25\n",
      "Convergence Check: Mu:0.0000 | S:736966815.2636\n",
      "Iteration 2/25\n",
      "Convergence Check: Mu:218.8700 | S:2901737450.9682\n",
      "Iteration 3/25\n",
      "Convergence Check: Mu:306.0154 | S:3979249063.7665\n",
      "Iteration 4/25\n",
      "Convergence Check: Mu:274.2536 | S:1811668582.5828\n",
      "Iteration 5/25\n",
      "Convergence Check: Mu:213.9721 | S:580196685.0235\n",
      "Iteration 6/25\n",
      "Convergence Check: Mu:156.5095 | S:377672627.0707\n",
      "Iteration 7/25\n",
      "Convergence Check: Mu:115.3696 | S:300399276.4947\n",
      "Iteration 8/25\n",
      "Convergence Check: Mu:89.5965 | S:238524680.8151\n",
      "Iteration 9/25\n",
      "Convergence Check: Mu:72.7665 | S:188971406.9884\n",
      "Iteration 10/25\n",
      "Convergence Check: Mu:60.2804 | S:149361737.6718\n",
      "Iteration 11/25\n",
      "Convergence Check: Mu:50.1624 | S:117739352.7036\n",
      "Iteration 12/25\n",
      "Convergence Check: Mu:41.7772 | S:92558220.1652\n",
      "Iteration 13/25\n",
      "Convergence Check: Mu:34.8868 | S:72657581.2491\n",
      "Iteration 14/25\n",
      "Convergence Check: Mu:29.2852 | S:57129170.3375\n",
      "Iteration 15/25\n",
      "Convergence Check: Mu:24.7480 | S:45168074.0327\n",
      "Iteration 16/25\n",
      "Convergence Check: Mu:21.0683 | S:36029152.1580\n",
      "Iteration 17/25\n",
      "Convergence Check: Mu:18.0907 | S:29073556.7505\n",
      "Iteration 18/25\n",
      "Convergence Check: Mu:15.7293 | S:23798857.8136\n",
      "Iteration 19/25\n",
      "Convergence Check: Mu:13.9458 | S:19817694.9440\n",
      "Iteration 20/25\n",
      "Convergence Check: Mu:12.6954 | S:16811378.3494\n",
      "Iteration 21/25\n",
      "Convergence Check: Mu:11.8875 | S:14494394.3687\n",
      "Iteration 22/25\n",
      "Convergence Check: Mu:11.3951 | S:12626964.2272\n",
      "Iteration 23/25\n",
      "Convergence Check: Mu:11.0896 | S:11044268.8155\n",
      "Iteration 24/25\n",
      "Convergence Check: Mu:10.8662 | S:9654282.0332\n",
      "Iteration 25/25\n",
      "Convergence Check: Mu:10.6519 | S:8414588.3800\n",
      "Time used: 0:04:26.233919\n",
      "Stacking Model Test Accuracy: 0.975563009103977\n",
      "Stacking Model Test F1 Score: 0.9744404664024281\n",
      "Stacking Model Test Accuracy: 0.8643986583612842\n",
      "Stacking Model Test F1 Score: 0.8573059672184159\n"
     ]
    }
   ],
   "source": [
    "for miss_rate in config['miss_rate']:\n",
    "    m_X_train = pd.read_csv(f\"./data/Gas Sensor Drift Dataset/miss_{miss_rate}/X_train.csv\")\n",
    "    y_train = pd.read_csv(f\"./data/Gas Sensor Drift Dataset/miss_{miss_rate}/y_train.csv\")\n",
    "    m_X_test = pd.read_csv(f\"./data/Gas Sensor Drift Dataset/miss_{miss_rate}/X_test.csv\")\n",
    "    y_test = pd.read_csv(f\"./data/Gas Sensor Drift Dataset/miss_{miss_rate}/y_test.csv\")\n",
    "    \n",
    "    # For XGB fix\n",
    "    y_train = y_train-1\n",
    "    y_test = y_test-1\n",
    "    # print(m_X_train.shape)\n",
    "    # print(m_X_test.shape)\n",
    "    missing_df = pd.concat([m_X_train, m_X_test], axis=0)\n",
    "    # print(missing_df.shape)\n",
    "    missing_df.reset_index(drop=True, inplace=True)\n",
    "    \n",
    "    # EM Imputer\n",
    "    result_imputed = em.impute_em(missing_df, 25, 50000, True)\n",
    "    x_train = result_imputed['X_imputed'][:11823]\n",
    "    x_test = result_imputed['X_imputed'][11823:]\n",
    "    accuracy, f1 = utils.generate_stack_prediction(x_train, y_train, x_test, y_test)\n",
    "    result['em'].append([accuracy, f1, result_imputed['time']])\n",
    "    \n",
    "    # KNN\n",
    "    t_start = datetime.now()\n",
    "    knn = KNNImputer(n_neighbors=3)\n",
    "    knn_X = knn.fit_transform(missing_df)\n",
    "    time_s = datetime.now() - t_start\n",
    "    knn_df = pd.DataFrame(knn_X, columns=missing_df.columns)\n",
    "    \n",
    "    x_train = knn_df[:11823]\n",
    "    x_test = knn_df[11823:]\n",
    "    accuracy, f1 = utils.generate_stack_prediction(x_train, y_train, x_test, y_test)\n",
    "    result['knn'].append([accuracy, f1, time_s])"
   ]
  },
  {
   "cell_type": "markdown",
   "metadata": {},
   "source": [
    "## Classification on Original data"
   ]
  },
  {
   "cell_type": "code",
   "execution_count": 5,
   "metadata": {
    "tags": []
   },
   "outputs": [
    {
     "name": "stdout",
     "output_type": "stream",
     "text": [
      "Stacking Model Test Accuracy: 0.9913751796837565\n",
      "Stacking Model Test F1 Score: 0.9912982959465593\n"
     ]
    },
    {
     "data": {
      "text/plain": [
       "(0.9913751796837565, 0.9912982959465593)"
      ]
     },
     "execution_count": 5,
     "metadata": {},
     "output_type": "execute_result"
    }
   ],
   "source": [
    "c_x_train = pd.read_csv(\"./data/Gas Sensor Drift Dataset/complete/X_train.csv\")\n",
    "c_x_test = pd.read_csv(\"./data/Gas Sensor Drift Dataset/complete/X_test.csv\")\n",
    "utils.generate_stack_prediction(c_x_train, y_train, c_x_test, y_test)"
   ]
  },
  {
   "cell_type": "markdown",
   "metadata": {},
   "source": [
    "## Classification on imputed data (MissForest)"
   ]
  },
  {
   "cell_type": "code",
   "execution_count": 6,
   "metadata": {
    "tags": []
   },
   "outputs": [
    {
     "name": "stdout",
     "output_type": "stream",
     "text": [
      "Execution time: 0:16:37.992924\n",
      "Stacking Model Test Accuracy: 0.9923334930522281\n",
      "Stacking Model Test F1 Score: 0.9920354347327498\n",
      "Execution time: 0:12:28.276056\n",
      "Stacking Model Test Accuracy: 0.9908960229995208\n",
      "Stacking Model Test F1 Score: 0.9906800377967869\n",
      "Execution time: 0:11:17.969443\n",
      "Stacking Model Test Accuracy: 0.9789171058936272\n",
      "Stacking Model Test F1 Score: 0.9777012944225629\n"
     ]
    }
   ],
   "source": [
    "for miss_rate in [25,50,75]:\n",
    "    m_X_train = pd.read_csv(f\"./data/Gas Sensor Drift Dataset/miss_{miss_rate}/X_train.csv\")\n",
    "    m_X_test = pd.read_csv(f\"./data/Gas Sensor Drift Dataset/miss_{miss_rate}/X_test.csv\")\n",
    "\n",
    "    missing_df = pd.concat([m_X_train, m_X_test], axis=0)\n",
    "    missing_df.reset_index(drop=True, inplace=True)\n",
    "    mf_imputer = MissForest.MissForest(max_iter = 15)\n",
    "    start_time = datetime.now()\n",
    "    mf_df = mf_imputer.fit_transform(missing_df, verbose=False)\n",
    "    print(f\"Execution time: {datetime.now() - start_time}\")\n",
    "    time = datetime.now() - start_time\n",
    "\n",
    "    x_train = mf_df[:11823]\n",
    "    x_test = mf_df[11823:]\n",
    "    accuracy, f1 = utils.generate_stack_prediction(x_train, y_train, x_test, y_test)\n",
    "\n",
    "    result['miss'].append([accuracy, f1, time])"
   ]
  },
  {
   "cell_type": "code",
   "execution_count": 7,
   "metadata": {
    "tags": []
   },
   "outputs": [
    {
     "data": {
      "text/plain": [
       "(13910, 128)"
      ]
     },
     "metadata": {},
     "output_type": "display_data"
    }
   ],
   "source": [
    "display(missing_df.shape)"
   ]
  },
  {
   "cell_type": "markdown",
   "metadata": {},
   "source": [
    "## Classificaiton on imputed data (fuzzy)"
   ]
  },
  {
   "cell_type": "code",
   "execution_count": 9,
   "metadata": {
    "tags": []
   },
   "outputs": [
    {
     "name": "stdout",
     "output_type": "stream",
     "text": [
      "Stacking Model Test Accuracy: 0.9870627695256349\n",
      "Stacking Model Test F1 Score: 0.9866270443215205\n",
      "Stacking Model Test Accuracy: 0.9587925251557259\n",
      "Stacking Model Test F1 Score: 0.9547934125831459\n",
      "Stacking Model Test Accuracy: 0.8711068519405846\n",
      "Stacking Model Test F1 Score: 0.8622686966881696\n"
     ]
    }
   ],
   "source": [
    "import time\n",
    "for miss_rate in [25,50,75]:\n",
    "    m_X_train = pd.read_csv(f\"./data/Gas Sensor Drift Dataset/miss_{miss_rate}/X_train.csv\")\n",
    "    m_X_test = pd.read_csv(f\"./data/Gas Sensor Drift Dataset/miss_{miss_rate}/X_test.csv\")\n",
    "\n",
    "    missing_df = pd.concat([m_X_train, m_X_test], axis=0)\n",
    "    missing_df.reset_index(drop=True, inplace=True)\n",
    "    c_X_train = pd.read_csv(f\"./data/Gas Sensor Drift Dataset/complete/X_train.csv\")\n",
    "    c_X_test = pd.read_csv(f\"./data/Gas Sensor Drift Dataset/complete/X_test.csv\")\n",
    "    x_train = pd.concat([c_X_train[0:1391], missing_df[1391:11823]], axis=0)\n",
    "    x_test = missing_df[11823:]\n",
    "    missing_df = pd.concat([x_train, x_test], axis=0)\n",
    "    missing_df.reset_index(drop=True, inplace=True)\n",
    "\n",
    "    fcmImputer = Fcm_imputer.FCMImputer(data = missing_df, num_clusters = 3)\n",
    "    s_time = time.time()\n",
    "    fuzzy_X = fcmImputer.impute()\n",
    "    duration = time.time() - s_time\n",
    "\n",
    "    x_train = fuzzy_X[:11823]\n",
    "    x_test = fuzzy_X[11823:]\n",
    "    accuracy, f1 = utils.generate_stack_prediction(x_train, y_train, x_test, y_test)\n",
    "\n",
    "    result['fcm'].append([accuracy, f1, duration])"
   ]
  },
  {
   "cell_type": "markdown",
   "metadata": {
    "tags": []
   },
   "source": [
    "## Mean Impute"
   ]
  },
  {
   "cell_type": "code",
   "execution_count": null,
   "metadata": {},
   "outputs": [],
   "source": [
    "for miss_rate in [25,50,75]:\n",
    "    m_X_train = pd.read_csv(f\"./data/Gas Sensor Drift Dataset/miss_{miss_rate}/X_train.csv\")\n",
    "    m_X_test = pd.read_csv(f\"./data/Gas Sensor Drift Dataset/miss_{miss_rate}/X_test.csv\")\n",
    "\n",
    "    missing_df = pd.concat([m_X_train, m_X_test], axis=0)\n",
    "    missing_df.reset_index(drop=True, inplace=True)\n",
    "    s_time = time.time()\n",
    "    mean_imputer = SimpleImputer(strategy='mean')\n",
    "    mean_imputer.fit(missing_df)\n",
    "    mean_x = mean_imputer.fit_transform(missing_df)\n",
    "    duration = time.time() - s_time\n",
    "    \n",
    "    x_train = mean_x[:11823]\n",
    "    x_test = mean_x[11823:]\n",
    "    accuracy, f1 = utils.generate_stack_prediction(x_train, y_train, x_test, y_test)\n",
    "    result['mean'].append([accuracy, f1, duration])"
   ]
  },
  {
   "cell_type": "code",
   "execution_count": null,
   "metadata": {
    "tags": []
   },
   "outputs": [],
   "source": [
    "for i in range(0,3):\n",
    "    print(result['miss'][i][1])\n",
    "    print(result['em'][i][1])\n",
    "    print(result['knn'][i][1])\n",
    "    print(result['fcm'][i][1])\n",
    "    print(result['mean'][i][1])"
   ]
  },
  {
   "cell_type": "code",
   "execution_count": null,
   "metadata": {
    "tags": []
   },
   "outputs": [],
   "source": [
    "# con = continuous()\n",
    "# frame = con.comparison(knn_X_df, result_imputed['X_imputed'])"
   ]
  }
 ],
 "metadata": {
  "kernelspec": {
   "display_name": "Python 3 (ipykernel)",
   "language": "python",
   "name": "python3"
  },
  "language_info": {
   "codemirror_mode": {
    "name": "ipython",
    "version": 3
   },
   "file_extension": ".py",
   "mimetype": "text/x-python",
   "name": "python",
   "nbconvert_exporter": "python",
   "pygments_lexer": "ipython3",
   "version": "3.9.18"
  }
 },
 "nbformat": 4,
 "nbformat_minor": 4
}
