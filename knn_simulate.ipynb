{
 "cells": [
  {
   "cell_type": "code",
   "execution_count": 1,
   "metadata": {},
   "outputs": [],
   "source": [
    "import numpy as np\n",
    "import pandas as pd\n",
    "from sklearn.impute import KNNImputer\n",
    "import statsmodels.api as sm\n",
    "import utils"
   ]
  },
  {
   "cell_type": "code",
   "execution_count": 2,
   "metadata": {},
   "outputs": [],
   "source": [
    "truth_df = pd.read_csv(\"./data/original.csv\")\n",
    "truth_X = truth_df.drop(\"PM2.5\", axis=1)"
   ]
  },
  {
   "cell_type": "code",
   "execution_count": 3,
   "metadata": {},
   "outputs": [],
   "source": [
    "missing_result = utils.simulate_nan(truth_X, nan_rate=0.2)\n",
    "missing_df = missing_result['X']"
   ]
  },
  {
   "cell_type": "code",
   "execution_count": 4,
   "metadata": {},
   "outputs": [],
   "source": [
    "imputer = KNNImputer(n_neighbors=4)\n",
    "X = imputer.fit_transform(missing_df)"
   ]
  },
  {
   "cell_type": "code",
   "execution_count": 5,
   "metadata": {},
   "outputs": [
    {
     "data": {
      "text/plain": [
       "array([[  1.   ,  16.   ,   1.875, ..., 106.   ,  77.   ,   2.6  ],\n",
       "       [  1.   ,  16.   ,   1.85 , ..., 106.   ,  77.   ,   3.8  ],\n",
       "       [  1.   ,  20.75 ,   2.   , ..., 107.   ,  79.   ,   3.6  ],\n",
       "       ...,\n",
       "       [  1.   ,  20.   ,   2.   , ...,  50.   ,  83.   ,   1.5  ],\n",
       "       [  1.   ,  19.   ,   2.   , ...,  53.25 ,  89.   ,   2.425],\n",
       "       [  1.   ,  19.   ,   2.   , ...,  54.   ,  90.   ,   2.55 ]])"
      ]
     },
     "metadata": {},
     "output_type": "display_data"
    },
    {
     "name": "stdout",
     "output_type": "stream",
     "text": [
      "                            OLS Regression Results                            \n",
      "==============================================================================\n",
      "Dep. Variable:                      y   R-squared:                       0.660\n",
      "Model:                            OLS   Adj. R-squared:                  0.659\n",
      "Method:                 Least Squares   F-statistic:                     1700.\n",
      "Date:                Sun, 28 May 2023   Prob (F-statistic):               0.00\n",
      "Time:                        06:58:33   Log-Likelihood:                -36569.\n",
      "No. Observations:                8784   AIC:                         7.316e+04\n",
      "Df Residuals:                    8773   BIC:                         7.324e+04\n",
      "Df Model:                          10                                         \n",
      "Covariance Type:            nonrobust                                         \n",
      "==============================================================================\n",
      "                 coef    std err          t      P>|t|      [0.025      0.975]\n",
      "------------------------------------------------------------------------------\n",
      "const        -34.2224      3.087    -11.087      0.000     -40.273     -28.172\n",
      "x1             0.1511      0.041      3.699      0.000       0.071       0.231\n",
      "x2            20.9128      1.511     13.839      0.000      17.951      23.875\n",
      "x3            40.6246      1.731     23.473      0.000      37.232      44.017\n",
      "x4           -10.7280      1.470     -7.297      0.000     -13.610      -7.846\n",
      "x5            -0.4231      0.060     -7.076      0.000      -0.540      -0.306\n",
      "x6             0.1521      0.052      2.930      0.003       0.050       0.254\n",
      "x7            -0.1921      0.044     -4.400      0.000      -0.278      -0.107\n",
      "x8             0.5842      0.008     75.065      0.000       0.569       0.599\n",
      "x9            -0.1592      0.020     -7.925      0.000      -0.199      -0.120\n",
      "x10            0.4607      0.157      2.941      0.003       0.154       0.768\n",
      "==============================================================================\n",
      "Omnibus:                      876.846   Durbin-Watson:                   0.724\n",
      "Prob(Omnibus):                  0.000   Jarque-Bera (JB):             7076.891\n",
      "Skew:                           0.036   Prob(JB):                         0.00\n",
      "Kurtosis:                       7.397   Cond. No.                     2.00e+03\n",
      "==============================================================================\n",
      "\n",
      "Notes:\n",
      "[1] Standard Errors assume that the covariance matrix of the errors is correctly specified.\n",
      "[2] The condition number is large,  2e+03. This might indicate that there are\n",
      "strong multicollinearity or other numerical problems.\n"
     ]
    }
   ],
   "source": [
    "# display(X)\n",
    "X = sm.add_constant(X)\n",
    "display(X)\n",
    "y=truth_df['PM2.5'].values\n",
    "model = sm.OLS(y,X).fit()\n",
    "print(model.summary())"
   ]
  },
  {
   "cell_type": "code",
   "execution_count": null,
   "metadata": {},
   "outputs": [],
   "source": []
  }
 ],
 "metadata": {
  "kernelspec": {
   "display_name": "base",
   "language": "python",
   "name": "python3"
  },
  "language_info": {
   "codemirror_mode": {
    "name": "ipython",
    "version": 3
   },
   "file_extension": ".py",
   "mimetype": "text/x-python",
   "name": "python",
   "nbconvert_exporter": "python",
   "pygments_lexer": "ipython3",
   "version": "3.9.7"
  },
  "orig_nbformat": 4
 },
 "nbformat": 4,
 "nbformat_minor": 2
}
